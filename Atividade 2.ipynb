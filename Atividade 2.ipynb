{
 "cells": [
  {
   "cell_type": "markdown",
   "metadata": {},
   "source": [
    "1. Escreva uma função que receba uma lista de números e retorne outra lista com os números ímpares. "
   ]
  },
  {
   "cell_type": "code",
   "execution_count": null,
   "metadata": {},
   "outputs": [
    {
     "data": {
      "text/plain": [
       "[1, 3, 5, 9, 55]"
      ]
     },
     "execution_count": 1,
     "metadata": {},
     "output_type": "execute_result"
    }
   ],
   "source": [
    "def lista_impar (lista):\n",
    "    lista_dois = []\n",
    "    for i in lista:\n",
    "        if i % 2 != 0:\n",
    "            lista_dois.append(i)\n",
    "    return lista_dois\n",
    "lista_teste = [1,3,5,9,2,55,82,44,78,22]\n",
    "lista_impar(lista_teste)"
   ]
  },
  {
   "cell_type": "markdown",
   "metadata": {},
   "source": [
    "2. Escreva uma função que receba uma lista de números e retorne outra lista com os números primos presentes. "
   ]
  },
  {
   "cell_type": "code",
   "execution_count": 5,
   "metadata": {},
   "outputs": [
    {
     "data": {
      "text/plain": [
       "[3, 2, 7, 3, 2, 11, 97]"
      ]
     },
     "execution_count": 5,
     "metadata": {},
     "output_type": "execute_result"
    }
   ],
   "source": [
    "def lista_primos (lista):\n",
    "    lista_tres = []\n",
    "    for i in lista:\n",
    "        if i>1: #números primos são >1\n",
    "            primo = True\n",
    "            for j in range(2, int(i**0.5)+1): #aqui gera números a partir de 2 até a raiz quadrada + 1\n",
    "# usa a raiz quadrada (i**0.5) do número para saber se ele é primo, trasformando ele é inteiro (int)\n",
    "                if i % j ==0:\n",
    "                    primo = False\n",
    "                    break\n",
    "            if primo:\n",
    "                lista_tres.append(i)\n",
    "    return lista_tres\n",
    "lista_teste_dois = [1,4,8,3,2,7,90,3,2,8,11,115,97,341]\n",
    "lista_primos(lista_teste_dois)"
   ]
  },
  {
   "cell_type": "markdown",
   "metadata": {},
   "source": [
    "3. Escreva uma função que receba duas listas e retorne outra lista com os elementos que estão presentes em apenas uma das listas. "
   ]
  },
  {
   "cell_type": "code",
   "execution_count": 5,
   "metadata": {},
   "outputs": [
    {
     "data": {
      "text/plain": [
       "[1, 3, 4, 66, 3333]"
      ]
     },
     "execution_count": 5,
     "metadata": {},
     "output_type": "execute_result"
    }
   ],
   "source": [
    "def duas_listas (lista_um,lista_dois):\n",
    "    lista3 = []\n",
    "    for i in lista_um:\n",
    "        if i == i in lista_dois:\n",
    "            lista3.append(i)\n",
    "    return lista3\n",
    "\n",
    "lista1 = [5, 33, 5, 97, 333, 1, 3, 4, 66, 3333]\n",
    "lista2 = [6, 4, 66, 3333, 11, 3, 44, 4, 1]\n",
    "\n",
    "duas_listas (lista1,lista2)"
   ]
  },
  {
   "cell_type": "markdown",
   "metadata": {},
   "source": [
    "4. Dada uma lista de números inteiros, escreva uma função para encontrar o segundo maior valor na lista. "
   ]
  },
  {
   "cell_type": "code",
   "execution_count": 9,
   "metadata": {},
   "outputs": [
    {
     "data": {
      "text/plain": [
       "88"
      ]
     },
     "execution_count": 9,
     "metadata": {},
     "output_type": "execute_result"
    }
   ],
   "source": [
    "def maior_numero (lista):\n",
    "    lista_sem_dupl = list(set(lista))\n",
    "    lista_sem_dupl.sort(reverse=True)\n",
    "    return lista_sem_dupl[1] if len (lista_sem_dupl) > 1 else None\n",
    "maior_num = [1, 6, 88, 34, 23, 11, 66, 7, 33333333]\n",
    "maior_numero(maior_num)"
   ]
  },
  {
   "cell_type": "markdown",
   "metadata": {},
   "source": [
    "5. Crie uma função que receba uma lista de tuplas, cada uma contendo o nome e a idade de uma pessoa, e retorne a lista ordenada pelo nome das pessoas em ordem alfabética. "
   ]
  },
  {
   "cell_type": "code",
   "execution_count": null,
   "metadata": {},
   "outputs": [
    {
     "name": "stdout",
     "output_type": "stream",
     "text": [
      "[('Abílio', 59), ('Cindy', 99), ('João', 22), ('Roberval', 31)]\n"
     ]
    }
   ],
   "source": [
    "def tupla (lista):\n",
    "    return sorted(lista,key = lambda x:x[0])\n",
    "\n",
    "tupla_teste = [('João', 22), ('Roberval', 31),('Abílio',59), ('Cindy',99)]\n",
    "print(tupla(tupla_teste))"
   ]
  },
  {
   "cell_type": "markdown",
   "metadata": {},
   "source": [
    "6. Observe os espaços sublinhados e complete o código."
   ]
  },
  {
   "cell_type": "markdown",
   "metadata": {},
   "source": [
    "import *matplotlib*.pyplot as plt \n",
    "import numpy as *np* \n",
    "fig, axs = plt.subplots(ncols=2, nrows=2, figsize=(5.5, 3.5), layout=\"constrained\") \n",
    "for *row* in range(2): \n",
    "    for *col* in range(2): \n",
    "        axs[row, col].annotate(f'axs[{row}, {col}]', (0.5, 0.5), transform=axs[row, col].transAxes, ha='center', va='center', *fontsize*=18, color='darkgrey') \n",
    "fig.suptitle('*plt*.subplots()') "
   ]
  },
  {
   "cell_type": "markdown",
   "metadata": {},
   "source": [
    "7. Observe os espaços sublinhados e complete o código. "
   ]
  },
  {
   "cell_type": "markdown",
   "metadata": {},
   "source": [
    "import numpy as np \n",
    "import *matplotlib* as mpl \n",
    "import *matplotlib.pyplot* as plt \n",
    "x = np.*linspace*(-2 * np.pi, 2 * np.pi, 100) \n",
    "y = np.*sin*(x) \n",
    "*fig*, *ax* = plt.subplots()\n",
    "ax.*plot(x,y)*"
   ]
  },
  {
   "cell_type": "markdown",
   "metadata": {},
   "source": [
    "8. Utilizando pandas, como realizar a leitura de um arquivo CSV em um DataFrame e exibir as primeiras linhas? "
   ]
  },
  {
   "cell_type": "markdown",
   "metadata": {},
   "source": [
    "Primeiro importamos a biblioteca - > import pandas as pd\n",
    "Para a leitura do arquivo atribuimos a uma variável e usamos -> df = pd.read_csv('caminho do arquivo')\n",
    "Depois utilizamos .head, e dentro dessa função podemos escolher quantas linhas queremos ver -> df.head(10) nessa caso as 10 primeiras linhas"
   ]
  },
  {
   "cell_type": "markdown",
   "metadata": {},
   "source": [
    "9. Utilizando pandas, como selecionar uma coluna específica e filtrar linhas em um “DataFrame” com base em uma condição? "
   ]
  },
  {
   "cell_type": "markdown",
   "metadata": {},
   "source": [
    "Para selecionar, por exemplo, uma coluna chamada Gênero -> df['Gênero'],\n",
    "Para selecionar mais de uma, como Gênero e Idade -> df.[['Gênero','Idade']]\n",
    "\n",
    "Para filtrar as linhas com base, por exemplo, em maiores de idade -> maior_de_idade = df[df['Idade'] > 18]\n",
    "Ou selecionar o gênero feminino -> feminino= df[df['Gênero'] == 'F']"
   ]
  },
  {
   "cell_type": "markdown",
   "metadata": {},
   "source": [
    "10. Utilizando pandas, como lidar com valores ausentes (NaN) em um DataFrame? "
   ]
  },
  {
   "cell_type": "markdown",
   "metadata": {},
   "source": [
    "Dependendo do dataset e do objetivo, há várias formas de lidar com dados ausentes. Mas a primeira coisa é verificar se realmente há dados ausentes\n",
    "Utilizando o isna verificamos se há dados ausentes -> df.isna()\n",
    "Podemos também ver por coluna -> df['Idade'].isna()\n",
    "Para contar quantos dados nulos -> df.isna().sum()\n",
    "Para deletar os valores nulos diretamente no dataframe -> df.dropna(inplace=True)\n",
    "Para substituir em todo o dataframe, por exemplo, por 0 -> df.fillna(0, inplace=True) ou pela média df['Idade'].fillna(df['Idade'].mean(), inplace=True)"
   ]
  }
 ],
 "metadata": {
  "kernelspec": {
   "display_name": "Python 3.11 (findspark)",
   "language": "python",
   "name": "python311"
  },
  "language_info": {
   "codemirror_mode": {
    "name": "ipython",
    "version": 3
   },
   "file_extension": ".py",
   "mimetype": "text/x-python",
   "name": "python",
   "nbconvert_exporter": "python",
   "pygments_lexer": "ipython3",
   "version": "3.11.5"
  }
 },
 "nbformat": 4,
 "nbformat_minor": 2
}
