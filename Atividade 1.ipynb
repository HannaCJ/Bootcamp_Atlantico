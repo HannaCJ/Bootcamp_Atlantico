{
 "cells": [
  {
   "cell_type": "markdown",
   "metadata": {},
   "source": [
    "1. Explique, com suas palavras, o que é machine learning?"
   ]
  },
  {
   "cell_type": "markdown",
   "metadata": {},
   "source": [
    "Machine learning (aprendizado de máquina) é uma área da Inteligência Artificial que utiliza dados e informações, para previsões e tomada de decisões. É uma tecnologia que permite que a máquina aprenda sozinha, e vá se aprimorando cada vez mais a medida que mais dados vão sendo adicionados, ajudando a gerar insights em diversas áreas. Usualmente o ML é apresentado em 4 variações: Modelos supervisionados, não supervisionado, semi supervisionado e aprendizado por reforço. Essa tecnologia está presente em vários momentos do dia a dia, desde coisas simples como identificar qual e-mail pode ser spam ou não, até prever qual a porcentagem de um caroço observado em um exame de mamografia, vir a se tornar um câncer. Dentro da área de ML, também temos o Deep Learning, que tenta mimetizar a rede neural do cérebro humano."
   ]
  },
  {
   "cell_type": "markdown",
   "metadata": {},
   "source": [
    "2. Explique o conceito de conjunto de treinamento, conjunto de validação e conjunto de teste em machine learning"
   ]
  },
  {
   "cell_type": "markdown",
   "metadata": {},
   "source": [
    "Os dados para treinamento de um modelo de ML são divididos em dados de treino, teste e de validação. Geralmente a maior parte dos dados são utilizados para a máquina aprender a classificar padrões dos dados, enquanto a outra parte é utilizada para validação e teste. O conjunto de validação avalia o desempenho do meu treinamento, ajustando e testando hiperparâmetros (evitando overfiting). Enquanto que o conjunto de teste é usado para avaliar o desempenho do meu modelo.Nenhum desses dois ultimos conjuntos podem ser vistos pelo modelo no treinamento."
   ]
  },
  {
   "cell_type": "markdown",
   "metadata": {},
   "source": [
    "3. Explique como você lidaria com dados ausentes em um conjunto de dados de treinamento."
   ]
  },
  {
   "cell_type": "markdown",
   "metadata": {},
   "source": [
    "Existem algumas formas de lidar com os dados ausentes, dependendo de quais são os dados, qual era o objetivo do dataset. Uma das alternativas seria substituir os valores ausentes pela média ou mediana dos dados. Se a % de valores ausentes for baixa, eu optaria por remover os valores nulos."
   ]
  },
  {
   "cell_type": "markdown",
   "metadata": {},
   "source": [
    "4. O que é uma matriz de confusão e como ela é usada para avaliar o desempenho de um modelo preditivo?"
   ]
  },
  {
   "cell_type": "markdown",
   "metadata": {},
   "source": [
    "A matriz de confusão é uma tabela, que ajuda ajuda a avaliar o desempenho do meu modelo. Com a matriz eu consigo calcular métricas como precisão, recall. Ela compara o desenpenho do modelo por meio dos dados previstos no conjunto de treino com o valores reais do conjunto de teste. "
   ]
  },
  {
   "cell_type": "markdown",
   "metadata": {},
   "source": [
    "5. Em quais áreas (tais como construção civil, agricultura, saúde, manufatura, entre outras) você acha mais interessante aplicar algoritmos de machine learning?"
   ]
  },
  {
   "cell_type": "markdown",
   "metadata": {},
   "source": [
    "Uma das áreas mais interessantes é a utilização de ML na área da saúde. Principalmente na área de oncologia. A tecnologia já é utilizada para detecção precoce de vários tipos de tumores, como câncer de mama e colorretal. Juntamente com a equipe média, Machine Learning pode auxiliar não só no diagnóstico precoce de câncer, mas também ajuda a organizar filas e consultas por prioridades e emergências. "
   ]
  }
 ],
 "metadata": {
  "kernelspec": {
   "display_name": "Python 3.11 (findspark)",
   "language": "python",
   "name": "python311"
  }
 },
 "nbformat": 4,
 "nbformat_minor": 2
}
